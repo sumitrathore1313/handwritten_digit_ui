{
 "cells": [
  {
   "cell_type": "markdown",
   "metadata": {},
   "source": [
    "example 1\n",
    "create a simple label with text given"
   ]
  },
  {
   "cell_type": "code",
   "execution_count": 4,
   "metadata": {},
   "outputs": [],
   "source": [
    "from kivy.app import App\n",
    "from kivy.uix.label import Label\n",
    "\n",
    "class TestApp(App):\n",
    "    def build(self):\n",
    "        return Label(text='Hello World')\n",
    "\n",
    "TestApp().run()"
   ]
  },
  {
   "cell_type": "markdown",
   "metadata": {},
   "source": [
    "example 2\n",
    "create text input and grid layout"
   ]
  },
  {
   "cell_type": "code",
   "execution_count": 1,
   "metadata": {},
   "outputs": [
    {
     "name": "stderr",
     "output_type": "stream",
     "text": [
      "[INFO   ] [Logger      ] Record log in /home/sumit/.kivy/logs/kivy_17-10-02_13.txt\n",
      "[INFO   ] [Kivy        ] v1.10.0\n",
      "[INFO   ] [Python      ] v2.7.13 (default, Jan 19 2017, 14:48:08) \n",
      "[GCC 6.3.0 20170118]\n",
      "[INFO   ] [Factory     ] 194 symbols loaded\n",
      "[INFO   ] [Image       ] Providers: img_tex, img_dds, img_sdl2, img_pil, img_gif (img_ffpyplayer ignored)\n",
      "[INFO   ] [Text        ] Provider: sdl2\n",
      "[INFO   ] [OSC         ] using <multiprocessing> for socket\n",
      "[INFO   ] [Window      ] Provider: sdl2(['window_egl_rpi'] ignored)\n",
      "[INFO   ] [GL          ] Using the \"OpenGL\" graphics system\n",
      "[INFO   ] [GL          ] Backend used <gl>\n",
      "[INFO   ] [GL          ] OpenGL version <4.5.0 NVIDIA 375.82>\n",
      "[INFO   ] [GL          ] OpenGL vendor <NVIDIA Corporation>\n",
      "[INFO   ] [GL          ] OpenGL renderer <GeForce 940M/PCIe/SSE2>\n",
      "[INFO   ] [GL          ] OpenGL parsed version: 4, 5\n",
      "[INFO   ] [GL          ] Shading version <4.50 NVIDIA>\n",
      "[INFO   ] [GL          ] Texture max size <16384>\n",
      "[INFO   ] [GL          ] Texture max units <32>\n",
      "[INFO   ] [Window      ] auto add sdl2 input provider\n",
      "[INFO   ] [Window      ] virtual keyboard not allowed, single mode, not docked\n",
      "[INFO   ] [Clipboard   ] Provider: gtk3(['clipboard_dbusklipper'] ignored)\n",
      "[INFO   ] [Cutbuffer   ] Provider: xclip\n",
      "[INFO   ] [CutBuffer   ] cut buffer support enabled\n",
      "[INFO   ] [Base        ] Start application main loop\n",
      "[INFO   ] [GL          ] NPOT texture support is available\n",
      "[INFO   ] [Base        ] Leaving application in progress...\n"
     ]
    }
   ],
   "source": [
    "from kivy.app import App\n",
    "from kivy.uix.label import Label\n",
    "from kivy.uix.gridlayout import GridLayout\n",
    "from kivy.uix.textinput import TextInput\n",
    "\n",
    "class Login(GridLayout):\n",
    "    def __init__(self):\n",
    "        super(Login, self).__init__()\n",
    "        self.cols = 2\n",
    "\n",
    "        self.add_widget(Label(text=\"username\"))\n",
    "        self.add_widget(TextInput(multiline=False))\n",
    "        self.add_widget(Label(text=\"password\"))\n",
    "        self.add_widget(TextInput(multiline=False))\n",
    "\n",
    "class skr(App):\n",
    "    def build(self):\n",
    "        return Login()\n",
    "\n",
    "skr().run()\n"
   ]
  },
  {
   "cell_type": "markdown",
   "metadata": {},
   "source": [
    "example 3\n",
    "create kv file and create lable same as \n",
    "\n",
    "from kivy.app import App\n",
    "from kivy.uix.label import Label\n",
    "\n",
    "class TestApp(App):\n",
    "    def build(self):\n",
    "        return Label(text='Hello World')\n",
    "\n",
    "TestApp().run()"
   ]
  },
  {
   "cell_type": "markdown",
   "metadata": {},
   "source": [
    "### TextApp.kv\n",
    "<Label>\n",
    "    text: \"helllo world\"\n",
    "    \n",
    "### code\n",
    "from kivy.app import App\n",
    "from kivy.uix.label import Label\n",
    "\n",
    "class TestApp(App):\n",
    "    def build(self):\n",
    "        return Label()\n",
    "\n",
    "TestApp().run()"
   ]
  },
  {
   "cell_type": "markdown",
   "metadata": {},
   "source": [
    "example 4\n",
    "create a widget using kv file"
   ]
  },
  {
   "cell_type": "code",
   "execution_count": null,
   "metadata": {},
   "outputs": [],
   "source": [
    "from kivy.app import App\n",
    "from kivy.uix.widget import Widget\n",
    "\n",
    "class widget(Widget):\n",
    "    pass\n",
    "\n",
    "class HWDR(App):\n",
    "    def build(self):\n",
    "        return widget()\n",
    "\n",
    "if __name__ == \"__main__\":\n",
    "    HWDR().run()"
   ]
  },
  {
   "cell_type": "markdown",
   "metadata": {},
   "source": [
    "<Widgets>:\n",
    "\tButton:\n",
    "\t\tsize: 100,75\n",
    "\t\tpos: 0,0\n",
    "\t\ttext: \"Kivy\"\n",
    "\t\tcolor: 0,1,0,1\n",
    "\t\tfont_size: 40\n",
    "\n",
    "\tButton:\n",
    "\t\tsize: 170,75\n",
    "\t\tpos: 100,0\n",
    "\t\ttext: \"Tutorials\"\n",
    "\t\tcolor: 1,0,0,1\n",
    "\t\tfont_size: 40"
   ]
  },
  {
   "cell_type": "code",
   "execution_count": null,
   "metadata": {},
   "outputs": [],
   "source": [
    "example 5\n",
    "<Button>:\n",
    "    font_size: 40\n",
    "\tsize: 170,75\n",
    "\tcolor: 0,1,0,1\n",
    "\n",
    "<Widgets>:\n",
    "    Button:\n",
    "        pos: root.x, root.top - self.height\n",
    "        text: \"Kivy\"\n",
    "\n",
    "    Button:\n",
    "        pos: 170,0\n",
    "        text: \"Tutorials\"\n"
   ]
  },
  {
   "cell_type": "code",
   "execution_count": null,
   "metadata": {},
   "outputs": [],
   "source": [
    "example 6\n",
    "float layout"
   ]
  },
  {
   "cell_type": "markdown",
   "metadata": {},
   "source": [
    "from kivy.app import App\n",
    "#kivy.require(\"1.8.0\")\n",
    "from kivy.uix.floatlayout import FloatLayout\n",
    "\n",
    "class SimpleKivy4(App):\n",
    "    def build(self):\n",
    "        return FloatLayout()\n",
    "\n",
    "if __name__ == \"__main__\":\n",
    "    SimpleKivy4().run()\n",
    "\t\t<Button>:\n",
    "    font_size: 40\n",
    "\tcolor: 0,1,0,1\n",
    "\tsize_hint: 0.3, 0.2 \n",
    "\n",
    "<FloatLayout>:\n",
    "    Button:\n",
    "\t    text: \"Kivy\"\n",
    "\t\tpos_hint: {\"x\": 0, 'y':0}\n",
    "\t\n",
    "\tButton:\n",
    "\t    text: \"Tutorials\"\n",
    "\t\tpos_hint: {\"right\": 0.5, 'top':1}\n",
    "\t\t"
   ]
  },
  {
   "cell_type": "code",
   "execution_count": null,
   "metadata": {},
   "outputs": [],
   "source": [
    "example 7\n",
    "simple drawing applicatoion"
   ]
  },
  {
   "cell_type": "code",
   "execution_count": null,
   "metadata": {},
   "outputs": [],
   "source": [
    "\n",
    "from kivy.app import App\n",
    "from kivy.uix.widget import Widget\n",
    "from kivy.graphics import Line\n",
    "\n",
    "class DrawInput(Widget):\n",
    "    \n",
    "    def on_touch_down(self, touch):\n",
    "        print(touch)\n",
    "        with self.canvas:\n",
    "            touch.ud[\"line\"] = Line(points=(touch.x, touch.y))\n",
    "        \n",
    "    def on_touch_move(self, touch):\n",
    "        print(touch)\n",
    "        touch.ud[\"line\"].points += (touch.x, touch.y)\n",
    "\t\t\n",
    "    def on_touch_up(self, touch):\n",
    "        print(\"RELEASED!\",touch)\n",
    "\n",
    "\n",
    "class SimpleKivy4(App):\n",
    "    \n",
    "    def build(self):\n",
    "        return DrawInput()\n",
    "\n",
    "if __name__ == \"__main__\":\n",
    "    SimpleKivy4().run()\n",
    "\t\t"
   ]
  },
  {
   "cell_type": "markdown",
   "metadata": {},
   "source": [
    "example 8\n",
    "builder load kv file"
   ]
  },
  {
   "cell_type": "code",
   "execution_count": null,
   "metadata": {},
   "outputs": [],
   "source": [
    "from kivy.app import App\n",
    "from kivy.lang import Builder\n",
    "\n",
    "presentation = Builder.load_file(\"main.kv\")\n",
    "\n",
    "class MainApp(App):\n",
    "    \n",
    "    def build(self):\n",
    "        return presentation\n",
    "\t\t\n",
    "\n",
    "if __name__ == \"__main__\":\n",
    "\n",
    "    MainApp().run()\n",
    "\t\t"
   ]
  },
  {
   "cell_type": "markdown",
   "metadata": {},
   "source": [
    "example 9\n",
    "screen manager"
   ]
  },
  {
   "cell_type": "code",
   "execution_count": null,
   "metadata": {},
   "outputs": [],
   "source": [
    "from kivy.app import App\n",
    "from kivy.lang import Builder\n",
    "from kivy.uix.screenmanager import ScreenManager, Screen, FadeTransition\n",
    "\n",
    "class MainScreen(Screen):\n",
    "    pass\n",
    "\n",
    "class AnotherScreen(Screen):\n",
    "    pass\n",
    "\n",
    "class ScreenManagement(ScreenManager):\n",
    "    pass\n",
    "\n",
    "presentation = Builder.load_file(\"main.kv\")\n",
    "\n",
    "class MainApp(App):\n",
    "    def build(self):\n",
    "        return presentation\n",
    "\n",
    "MainApp().run()\n",
    "\t  "
   ]
  },
  {
   "cell_type": "markdown",
   "metadata": {},
   "source": [
    "ScreenManagement:\n",
    "    transition: FadeTransition()\n",
    "    MainScreen:\n",
    "    AnotherScreen:\n",
    "\t\n",
    "<MainScreen>:\n",
    "    name: 'main'\n",
    "\n",
    "    Button:\n",
    "        on_release: app.root.current = 'other'\n",
    "        text: 'Another Screen'\n",
    "        font_size: 50\n",
    "            \n",
    "<AnotherScreen>:\n",
    "    name: 'other'\n",
    "\n",
    "    Button:\n",
    "        on_release: app.root.current = 'main'\n",
    "        text: 'back to the home screen'\n",
    "        font_size: 50\n",
    "\t\t"
   ]
  },
  {
   "cell_type": "markdown",
   "metadata": {},
   "source": [
    "example 10\n"
   ]
  },
  {
   "cell_type": "code",
   "execution_count": null,
   "metadata": {},
   "outputs": [],
   "source": [
    "from kivy.app import App\n",
    "#kivy.require(\"1.8.0\")\n",
    "from kivy.lang import Builder\n",
    "from kivy.uix.screenmanager import ScreenManager, Screen, FadeTransition\n",
    "\n",
    "from kivy.uix.widget import Widget\n",
    "from kivy.graphics import Line\n",
    "\n",
    "\n",
    "class Painter(Widget):\n",
    "    \n",
    "    def on_touch_down(self, touch):\n",
    "        with self.canvas:\n",
    "            touch.ud[\"line\"] = Line(points=(touch.x, touch.y))\n",
    "\n",
    "    def on_touch_move(self,touch):\n",
    "        touch.ud[\"line\"].points += [touch.x, touch.y]\n",
    "        \n",
    "            \n",
    "class MainScreen(Screen):\n",
    "    pass\n",
    "\n",
    "class AnotherScreen(Screen):\n",
    "    pass\n",
    "\n",
    "class ScreenManagement(ScreenManager):\n",
    "    pass\n",
    "\n",
    "\n",
    "presentation = Builder.load_file(\"main2.kv\")\n",
    "\n",
    "class MainApp(App):\n",
    "    \n",
    "    def build(self):\n",
    "        return presentation\n",
    "\n",
    "if __name__ == \"__main__\":\n",
    "    MainApp().run()\n",
    "\t\t"
   ]
  },
  {
   "cell_type": "code",
   "execution_count": null,
   "metadata": {},
   "outputs": [],
   "source": [
    "ScreenManagement:\n",
    "\ttransition: FadeTransition()\n",
    "\tMainScreen:\n",
    "\tAnotherScreen:\n",
    "\t\n",
    "<MainScreen>:\n",
    "\tname: \"main\"\n",
    "\tButton:\n",
    "\t\ton_release: app.root.current = \"other\"\n",
    "\t\ttext: \"Next Screen\"\n",
    "\t\tfont_size: 50\n",
    "\t\t\n",
    "<AnotherScreen>:\n",
    "\tname: \"other\"\n",
    "\t\n",
    "\tFloatLayout:\n",
    "\t\tPainter\n",
    "\t\tButton:\n",
    "\t\t\tcolor: 0,1,0,1\n",
    "\t\t\tfont_size: 25\n",
    "\t\t\tsize_hint: 0.3,0.2\n",
    "\t\t\ttext: \"Back Home\"\n",
    "\t\t\ton_release: app.root.current = \"main\" \n",
    "\t\t\tpos_hint: {\"right\":1, \"top\":1}\t"
   ]
  }
 ],
 "metadata": {
  "kernelspec": {
   "display_name": "Python 2",
   "language": "python",
   "name": "python2"
  },
  "language_info": {
   "codemirror_mode": {
    "name": "ipython",
    "version": 2
   },
   "file_extension": ".py",
   "mimetype": "text/x-python",
   "name": "python",
   "nbconvert_exporter": "python",
   "pygments_lexer": "ipython2",
   "version": "2.7.13"
  }
 },
 "nbformat": 4,
 "nbformat_minor": 1
}
